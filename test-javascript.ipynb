{
 "cells": [
  {
   "cell_type": "code",
   "execution_count": null,
   "metadata": {},
   "outputs": [
    {
     "name": "stdout",
     "output_type": "stream",
     "text": [
      "Hello, World!\n"
     ]
    }
   ],
   "source": [
    "console.log('Hello, World!');"
   ]
  },
  {
   "cell_type": "markdown",
   "metadata": {},
   "source": [
    "\n",
    "## Funzioni in javascript\n",
    "\n",
    "le funzioni in JS sono oggetti di prima classe, cioè possono essere passate come argomenti,\n",
    "assegnate a variabili e restituire da altre funzioni.\n",
    "\n",
    "Esistono due modi per definire una funzione in JS:\n",
    "-dichiarazione/istruzione di funzione\n",
    "-Espresioni di fujnzione\n",
    "\n",
    "\n",
    "## Dichiarazione de funzione\n",
    "\n",
    "\n",
    "javascript\n",
    "const nomeFunzione= function(parametro1, parametro2) {\n",
    "    return valoreDiRitorno;\n",
    "}\n"
   ]
  },
  {
   "cell_type": "code",
   "execution_count": null,
   "metadata": {},
   "outputs": [],
   "source": [
    "function add(a: number, b: number): number {\n",
    "    return a + b;\n",
    "}\n",
    "\n",
    "add (1,2);\n",
    "\n",
    "add"
   ]
  },
  {
   "cell_type": "code",
   "execution_count": null,
   "metadata": {},
   "outputs": [],
   "source": [
    "const add1 = (a: number, b:number): number => {\n",
    "    return a + b;\n",
    "}\n",
    "\n",
    "add1(1, 2);"
   ]
  },
  {
   "cell_type": "code",
   "execution_count": null,
   "metadata": {},
   "outputs": [],
   "source": [
    "const add2 = (a: number, b: number): number => a + b;\n",
    "\n",
    "add2 (1, 2);"
   ]
  },
  {
   "cell_type": "markdown",
   "metadata": {},
   "source": [
    "\n",
    "### Closure\n",
    "una closure è una funzione che cattura le variabili dall'ambiente circostanrte in cui è stata creata\n",
    "\n"
   ]
  },
  {
   "cell_type": "code",
   "execution_count": null,
   "metadata": {},
   "outputs": [],
   "source": [
    "\n",
    "\n",
    "function creaContatore() {\n",
    "    let contatore = 0;\n",
    "    return function( ) {\n",
    "        return   contatore++\n",
    "    };\n",
    "}\n",
    "\n",
    "const contatore = creaContatore();\n",
    "const contatore1 = creaContatore();\n",
    "const contatore2 = creaContatore();\n",
    "\n",
    "\n",
    "\n",
    "console.log(contatore()); // 0\n",
    "console.log(contatore()); // 1\n",
    "console.log(contatore1()); // 0  \n",
    "console.log(contatore2()); // 0    \n",
    "console.log(contatore1()); // 1\n",
    "\n",
    "function creaContatore1() {\n",
    "    let contatore = 0;\n",
    "    return function( ) {\n",
    "        return   contatore++\n",
    "    };\n",
    "}\n",
    "\n",
    "const contatore3 = creaContatore1();\n",
    "\n",
    "console.log(contatore3()); // 0\n",
    "console.log(contatore3()); // 0"
   ]
  },
  {
   "cell_type": "markdown",
   "metadata": {},
   "source": [
    "\n",
    "### Oggetti in javascript\n",
    "\n",
    "Gli oggetti in Javascript sono collezione di coppie chiae-valore\n",
    "\n",
    "\n",
    "const oggetto = {\n",
    "    <chiave1> : <valore1>\n",
    "\n",
    "    <chiaveN> : <valoreN>\n",
    "\n",
    "};\n",
    "\n",
    "Accesso ai valori\n",
    "\n",
    "\n",
    "console.log(oggetto.chiave1);\n",
    "console.log(oggetto['chiaveN']);"
   ]
  },
  {
   "cell_type": "code",
   "execution_count": null,
   "metadata": {},
   "outputs": [],
   "source": [
    "\n",
    "const oggetto = {\n",
    "    <chiave1> : <valore1>\n",
    "\n",
    "    <chiaveN> : <valoreN>\n",
    "\n",
    "};\n",
    "\n",
    "\n",
    "/*\n",
    "Accesso ai valori\n",
    "*/\n",
    "\n",
    "console.log(oggetto.chiave1);\n",
    "console.log(oggetto['chiaveN']);"
   ]
  },
  {
   "cell_type": "code",
   "execution_count": null,
   "metadata": {},
   "outputs": [],
   "source": [
    "function esempiArgomenti(a){\n",
    "    console.log(arguments);\n",
    "    console.log(arguments.length);\n",
    "}\n",
    "\n",
    "esempiArgomenti(1, 2, 3, 4);\n",
    "\n",
    "const auguri = [1, 2, 3, 4, 5];\n",
    "const mio = [...auguri];"
   ]
  },
  {
   "cell_type": "markdown",
   "metadata": {},
   "source": [
    "### unpacking (or destructuring)\n"
   ]
  },
  {
   "cell_type": "code",
   "execution_count": null,
   "metadata": {},
   "outputs": [],
   "source": []
  }
 ],
 "metadata": {
  "kernelspec": {
   "display_name": "Deno",
   "language": "typescript",
   "name": "deno"
  },
  "language_info": {
   "file_extension": ".ts",
   "mimetype": "text/x.typescript",
   "name": "typescript",
   "nb_converter": "script",
   "pygments_lexer": "typescript",
   "version": "5.3.3"
  }
 },
 "nbformat": 4,
 "nbformat_minor": 4
}
