{
 "cells": [
  {
   "cell_type": "code",
   "execution_count": null,
   "metadata": {},
   "outputs": [
    {
     "name": "stdout",
     "output_type": "stream",
     "text": [
      "Hello, World!\n"
     ]
    }
   ],
   "source": [
    "console.log('Hello, World!');"
   ]
  },
  {
   "cell_type": "code",
   "execution_count": null,
   "metadata": {},
   "outputs": [],
   "source": [
    "\n",
    "## Funzioni in javascript\n",
    "\n",
    "le funzioni in JS sono oggetti di prima classe, cioè possono essere passate come argomenti,\n",
    "assegnate a variabili e restituire da altre funzioni.\n",
    "\n",
    "Esistono due modi per definire una funzione in JS:\n",
    "-dichiarazione/istruzione di funzione\n",
    "-Espresioni di fujnzione\n",
    "\n",
    "\n",
    "## Divhiarazione de funzione\n",
    "\n",
    "\n",
    "javascript\n",
    "const nomeFunzione= function(parametro1, parametro2) {\n",
    "    return valoreDiRitorno;\n",
    "}\n",
    "\n"
   ]
  },
  {
   "cell_type": "code",
   "execution_count": null,
   "metadata": {},
   "outputs": [],
   "source": [
    "function add(a: number, b: number): number {\n",
    "    return a + b;\n",
    "}\n",
    "\n",
    "add (1,2);\n",
    "\n",
    "add"
   ]
  },
  {
   "cell_type": "code",
   "execution_count": null,
   "metadata": {},
   "outputs": [],
   "source": [
    "const add1 = ()"
   ]
  }
 ],
 "metadata": {
  "kernelspec": {
   "display_name": "Deno",
   "language": "typescript",
   "name": "deno"
  },
  "language_info": {
   "file_extension": ".ts",
   "mimetype": "text/x.typescript",
   "name": "typescript",
   "nb_converter": "script",
   "pygments_lexer": "typescript",
   "version": "5.3.3"
  }
 },
 "nbformat": 4,
 "nbformat_minor": 4
}
